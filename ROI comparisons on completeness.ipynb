{
 "cells": [
  {
   "cell_type": "code",
   "execution_count": 1,
   "metadata": {},
   "outputs": [],
   "source": [
    "import neuprint as neu\n",
    "import pandas as pd\n",
    "import numpy as np\n",
    "import json\n"
   ]
  },
  {
   "cell_type": "code",
   "execution_count": 2,
   "metadata": {
    "scrolled": true
   },
   "outputs": [
    {
     "name": "stdout",
     "output_type": "stream",
     "text": [
      "    Brain Region    %presyn  total presyn   %postsyn  total postsyn\n",
      "0          AB(L)  92.307692           572  61.713920           4691\n",
      "1          AB(R)  98.610095          2734  67.599883          20574\n",
      "2          AL(L)  92.523926        168016  61.805557         786350\n",
      "3          AL(R)  94.075097        501004  65.541879        2360326\n",
      "4        AL-D(L)  94.479479          9673  69.360198          42732\n",
      "..           ...        ...           ...        ...            ...\n",
      "224        gL(R)  94.805555        176785  88.160520         696137\n",
      "225      lACA(R)  96.053998           963  60.374174           7109\n",
      "226      mALT(L)  82.194849          1786  47.867046           5626\n",
      "227      mALT(R)  84.334134          3747  46.628539          17485\n",
      "228      vACA(R)  96.867749           862  58.057851           5324\n",
      "\n",
      "[229 rows x 5 columns]\n",
      "    Brain Region    %presyn  total presyn   %postsyn  total postsyn\n",
      "0          AB(L)  92.307692         572.0  60.362087         4695.0\n",
      "1          AB(R)  98.610095        2734.0  67.110377        20584.0\n",
      "2          AL(L)  92.388820      168016.0  61.609356       786874.0\n",
      "3          AL(R)  93.991501      501007.0  65.356378      2360879.0\n",
      "4      AL-DC3(R)        inf           NaN        inf            NaN\n",
      "..           ...        ...           ...        ...            ...\n",
      "147        gL(R)  94.797070      176785.0  87.966242       696258.0\n",
      "148      lACA(R)  96.053998         963.0  60.126404         7120.0\n",
      "149      mALT(L)  82.194849        1786.0  47.760398         5626.0\n",
      "150      mALT(R)  84.334134        3747.0  46.588504        17485.0\n",
      "151      vACA(R)  96.751740         862.0  55.135641         5345.0\n",
      "\n",
      "[152 rows x 5 columns]\n"
     ]
    }
   ],
   "source": [
    "#read in ROI completeness document\n",
    "#read in most current data set\n",
    "df_latest = pd.read_csv(\"ROI Complete.csv\")\n",
    "\n",
    "#read in old data set\n",
    "df_oldest =pd.read_csv(\"ROI Complete v1.csv\")\n",
    "\n",
    "print(df_latest)\n",
    "print(df_oldest)"
   ]
  },
  {
   "cell_type": "code",
   "execution_count": 3,
   "metadata": {
    "scrolled": true
   },
   "outputs": [],
   "source": [
    "#convert into pandas data frame\n",
    "df_latest = pd.DataFrame(df_latest)\n",
    "df_oldest = pd.DataFrame(df_oldest)\n",
    "\n",
    "#remove infinite error values in old dataset\n",
    "df_oldest = df_oldest.drop(index = 4)\n",
    "df_oldest = df_oldest.drop(index = 32)"
   ]
  },
  {
   "cell_type": "code",
   "execution_count": 4,
   "metadata": {},
   "outputs": [
    {
     "data": {
      "text/html": [
       "<div>\n",
       "<style scoped>\n",
       "    .dataframe tbody tr th:only-of-type {\n",
       "        vertical-align: middle;\n",
       "    }\n",
       "\n",
       "    .dataframe tbody tr th {\n",
       "        vertical-align: top;\n",
       "    }\n",
       "\n",
       "    .dataframe thead th {\n",
       "        text-align: right;\n",
       "    }\n",
       "</style>\n",
       "<table border=\"1\" class=\"dataframe\">\n",
       "  <thead>\n",
       "    <tr style=\"text-align: right;\">\n",
       "      <th></th>\n",
       "      <th>brain_region</th>\n",
       "      <th>p_presyn</th>\n",
       "      <th>t_pre</th>\n",
       "      <th>p_postsyn</th>\n",
       "      <th>t_post</th>\n",
       "    </tr>\n",
       "  </thead>\n",
       "  <tbody>\n",
       "    <tr>\n",
       "      <th>0</th>\n",
       "      <td>AB(L)</td>\n",
       "      <td>92.307692</td>\n",
       "      <td>572</td>\n",
       "      <td>61.713920</td>\n",
       "      <td>4691</td>\n",
       "    </tr>\n",
       "    <tr>\n",
       "      <th>1</th>\n",
       "      <td>AB(R)</td>\n",
       "      <td>98.610095</td>\n",
       "      <td>2734</td>\n",
       "      <td>67.599883</td>\n",
       "      <td>20574</td>\n",
       "    </tr>\n",
       "    <tr>\n",
       "      <th>2</th>\n",
       "      <td>AL(L)</td>\n",
       "      <td>92.523926</td>\n",
       "      <td>168016</td>\n",
       "      <td>61.805557</td>\n",
       "      <td>786350</td>\n",
       "    </tr>\n",
       "    <tr>\n",
       "      <th>3</th>\n",
       "      <td>AL(R)</td>\n",
       "      <td>94.075097</td>\n",
       "      <td>501004</td>\n",
       "      <td>65.541879</td>\n",
       "      <td>2360326</td>\n",
       "    </tr>\n",
       "    <tr>\n",
       "      <th>4</th>\n",
       "      <td>AL-D(L)</td>\n",
       "      <td>94.479479</td>\n",
       "      <td>9673</td>\n",
       "      <td>69.360198</td>\n",
       "      <td>42732</td>\n",
       "    </tr>\n",
       "    <tr>\n",
       "      <th>...</th>\n",
       "      <td>...</td>\n",
       "      <td>...</td>\n",
       "      <td>...</td>\n",
       "      <td>...</td>\n",
       "      <td>...</td>\n",
       "    </tr>\n",
       "    <tr>\n",
       "      <th>224</th>\n",
       "      <td>gL(R)</td>\n",
       "      <td>94.805555</td>\n",
       "      <td>176785</td>\n",
       "      <td>88.160520</td>\n",
       "      <td>696137</td>\n",
       "    </tr>\n",
       "    <tr>\n",
       "      <th>225</th>\n",
       "      <td>lACA(R)</td>\n",
       "      <td>96.053998</td>\n",
       "      <td>963</td>\n",
       "      <td>60.374174</td>\n",
       "      <td>7109</td>\n",
       "    </tr>\n",
       "    <tr>\n",
       "      <th>226</th>\n",
       "      <td>mALT(L)</td>\n",
       "      <td>82.194849</td>\n",
       "      <td>1786</td>\n",
       "      <td>47.867046</td>\n",
       "      <td>5626</td>\n",
       "    </tr>\n",
       "    <tr>\n",
       "      <th>227</th>\n",
       "      <td>mALT(R)</td>\n",
       "      <td>84.334134</td>\n",
       "      <td>3747</td>\n",
       "      <td>46.628539</td>\n",
       "      <td>17485</td>\n",
       "    </tr>\n",
       "    <tr>\n",
       "      <th>228</th>\n",
       "      <td>vACA(R)</td>\n",
       "      <td>96.867749</td>\n",
       "      <td>862</td>\n",
       "      <td>58.057851</td>\n",
       "      <td>5324</td>\n",
       "    </tr>\n",
       "  </tbody>\n",
       "</table>\n",
       "<p>229 rows × 5 columns</p>\n",
       "</div>"
      ],
      "text/plain": [
       "    brain_region   p_presyn   t_pre  p_postsyn   t_post\n",
       "0          AB(L)  92.307692     572  61.713920     4691\n",
       "1          AB(R)  98.610095    2734  67.599883    20574\n",
       "2          AL(L)  92.523926  168016  61.805557   786350\n",
       "3          AL(R)  94.075097  501004  65.541879  2360326\n",
       "4        AL-D(L)  94.479479    9673  69.360198    42732\n",
       "..           ...        ...     ...        ...      ...\n",
       "224        gL(R)  94.805555  176785  88.160520   696137\n",
       "225      lACA(R)  96.053998     963  60.374174     7109\n",
       "226      mALT(L)  82.194849    1786  47.867046     5626\n",
       "227      mALT(R)  84.334134    3747  46.628539    17485\n",
       "228      vACA(R)  96.867749     862  58.057851     5324\n",
       "\n",
       "[229 rows x 5 columns]"
      ]
     },
     "execution_count": 4,
     "metadata": {},
     "output_type": "execute_result"
    }
   ],
   "source": [
    "#rename columns to make easier to call\n",
    "df_latest = df_latest.rename(columns ={\"Brain Region\": \"brain_region\",  \"total postsyn\": 't_post', \"total presyn\": \"t_pre\", \"%presyn\": \"p_presyn\", \"%postsyn\": \"p_postsyn\"})\n",
    "df_oldest = df_oldest.rename(columns ={\"Brain Region\": \"brain_region\",\"total postsyn\": 't_post', \"total presyn\": \"t_pre\", \"%presyn\": \"p_presyn\", \"%postsyn\": \"p_postsyn\"})\n",
    "\n",
    "df_latest"
   ]
  },
  {
   "cell_type": "code",
   "execution_count": 5,
   "metadata": {},
   "outputs": [
    {
     "data": {
      "text/plain": [
       "0         4695\n",
       "1        20584\n",
       "2       786874\n",
       "3      2360879\n",
       "5        32996\n",
       "        ...   \n",
       "147     696258\n",
       "148       7120\n",
       "149       5626\n",
       "150      17485\n",
       "151       5345\n",
       "Name: t_post, Length: 150, dtype: int32"
      ]
     },
     "execution_count": 5,
     "metadata": {},
     "output_type": "execute_result"
    }
   ],
   "source": [
    "\n",
    "#change values to int on old data set\n",
    "pd.to_numeric(df_oldest['p_presyn'], downcast = 'integer')\n",
    "pd.to_numeric(df_oldest['p_postsyn'], downcast = 'integer')\n",
    "pd.to_numeric(df_oldest['t_pre'], downcast = 'integer')\n",
    "pd.to_numeric(df_oldest['t_post'], downcast = 'integer')"
   ]
  },
  {
   "cell_type": "code",
   "execution_count": 12,
   "metadata": {},
   "outputs": [
    {
     "name": "stdout",
     "output_type": "stream",
     "text": [
      "Latest Dataset\n",
      "         p_presyn         t_pre   p_postsyn        t_post\n",
      "count  229.000000  2.290000e+02  229.000000  2.290000e+02\n",
      "mean    93.442736  9.165484e+04   60.196853  6.044246e+05\n",
      "std      3.332198  2.164123e+05   20.172745  1.555558e+06\n",
      "min     81.192053  5.100000e+01   20.558988  1.950000e+02\n",
      "25%     91.983696  5.226000e+03   44.004432  2.437500e+04\n",
      "50%     93.942688  1.252800e+04   63.723538  5.465600e+04\n",
      "75%     95.710166  6.143800e+04   74.094809  3.371190e+05\n",
      "max     99.854581  1.861182e+06   94.226570  1.356352e+07\n",
      "-------------------------------------------------------------------------------------------------------------------------\n",
      "Oldest Dataset\n",
      "         p_presyn         t_pre   p_postsyn        t_post\n",
      "count  150.000000  1.500000e+02  150.000000  1.500000e+02\n",
      "mean    93.415063  1.343923e+05   56.973805  8.942202e+05\n",
      "std      3.603109  2.573065e+05   24.110162  1.859341e+06\n",
      "min     81.575311  4.040000e+02   18.794567  2.403000e+03\n",
      "25%     91.769063  5.898000e+03   32.603004  2.993750e+04\n",
      "50%     93.964872  3.668650e+04   58.965348  1.664785e+05\n",
      "75%     96.042271  1.325665e+05   81.910875  8.148918e+05\n",
      "max     99.854581  1.861218e+06   93.917381  1.357282e+07\n"
     ]
    }
   ],
   "source": [
    "# basic operations\n",
    "print(\"Latest Dataset\")\n",
    "print(df_latest.describe()) # provide over view of the data set\n",
    "print(\"-------------------------------------------------------------------------------------------------------------------------\")\n",
    "print(\"Oldest Dataset\")\n",
    "print(df_oldest.describe()) #provide overview of oldest data set"
   ]
  },
  {
   "cell_type": "code",
   "execution_count": 7,
   "metadata": {},
   "outputs": [
    {
     "name": "stdout",
     "output_type": "stream",
     "text": [
      "Difference in mean percent post synaptic sites completed between data sets: 3.223047993154232\n",
      "Difference in mean percent pre synaptic sites completed between data sets: 0.027672956587267095\n"
     ]
    }
   ],
   "source": [
    "#changes in mean percent completeness between data sets\n",
    "mean_percent_diff_post = df_latest['p_postsyn'].mean() - df_oldest['p_postsyn'].mean()\n",
    "print(\"Difference in mean percent post synaptic sites completed between data sets: \" + str(mean_percent_diff_post))\n",
    "\n",
    "mean_percent_diff_pre = df_latest['p_presyn'].mean() - df_oldest['p_presyn'].mean()\n",
    "print(\"Difference in mean percent pre synaptic sites completed between data sets: \" + str(mean_percent_diff_pre))"
   ]
  },
  {
   "cell_type": "code",
   "execution_count": 8,
   "metadata": {},
   "outputs": [
    {
     "name": "stdout",
     "output_type": "stream",
     "text": [
      "Difference in specified ROI's from latest data to old data: 79\n",
      "-------------------------------------------------------------------------------------------------------------------------\n",
      "Difference in mean of post synaptic counts per ROI from newest data to old data: -289795.5884133915\n",
      "-------------------------------------------------------------------------------------------------------------------------\n",
      "Difference in mean pre of synaptic counts per ROI from newest data to old data: -42737.4705385735\n",
      "-------------------------------------------------------------------------------------------------------------------------\n",
      "Ratio of post to pre synaptic sites in latest data set: 6.594573508862446\n",
      "-------------------------------------------------------------------------------------------------------------------------\n",
      "Ratio of post to pre synaptic sites in old data set: 6.653804555389502\n"
     ]
    }
   ],
   "source": [
    "#comparisons of means \n",
    "count_dif = df_latest['brain_region'].count() - df_oldest['brain_region'].count() #79 ROI difference\n",
    "print(\"Difference in specified ROI's from latest data to old data: \" + str(count_dif))\n",
    "print(\"-------------------------------------------------------------------------------------------------------------------------\")\n",
    "mean_dif_post = df_latest['t_post'].mean() - df_oldest['t_post'].mean()\n",
    "print(\"Difference in mean of post synaptic counts per ROI from newest data to old data: \" + str(mean_dif_post))  #mean increase decreased in newest set? could it be because there are more ROI's identified in the latest set\n",
    "print(\"-------------------------------------------------------------------------------------------------------------------------\")\n",
    "mean_dif_pre = df_latest['t_pre'].mean() - df_oldest['t_pre'].mean()\n",
    "print('Difference in mean pre of synaptic counts per ROI from newest data to old data: ' + str(mean_dif_pre)) #mean increase decreased in newest set? could it be because there are more ROI's identified in the latest set\n",
    "print(\"-------------------------------------------------------------------------------------------------------------------------\")\n",
    "\n",
    "#ratios of post:pre\n",
    "ratio_lat = df_latest['t_post'].mean()/df_latest['t_pre'].mean() # ratio on newest data set\n",
    "print(\"Ratio of post to pre synaptic sites in latest data set: \" + str(ratio_lat))\n",
    "print(\"-------------------------------------------------------------------------------------------------------------------------\")\n",
    "ratio_old = df_oldest['t_post'].mean()/df_oldest['t_pre'].mean() # ratio on old data set\n",
    "print(\"Ratio of post to pre synaptic sites in old data set: \" + str(ratio_old))\n",
    "\n",
    "#emphasis on post numbers since those numbers are so much more numerous and a much better indicator of completness once they've been identified\n",
    "\n"
   ]
  },
  {
   "cell_type": "code",
   "execution_count": 9,
   "metadata": {
    "scrolled": true
   },
   "outputs": [
    {
     "name": "stdout",
     "output_type": "stream",
     "text": [
      "All comparisons are based off of percent completness\n",
      "-------------------------------------------------------------------------------------------------------------------------\n",
      "Lowest completed ROI in old data set:\n",
      "   brain_region   p_presyn   t_pre  p_postsyn   t_post\n",
      "42       FLA(R)  85.870346  6957.0  18.794567  39687.0\n",
      "Lowest completed ROI in old latest data set:\n",
      "    brain_region   p_presyn  t_pre  p_postsyn  t_post\n",
      "106       EPA(L)  88.630219  13316  20.558988   90306\n",
      "-------------------------------------------------------------------------------------------------------------------------\n",
      "Highest completed ROI in old data set:\n",
      "   brain_region   p_presyn    t_pre  p_postsyn   t_post\n",
      "24       EBr3am  98.743739  12179.0  93.917381  48318.0\n",
      "Highest completed ROI in old latest data set:\n",
      "    brain_region   p_presyn  t_pre  p_postsyn  t_post\n",
      "101       EBr3am  98.725079  11687   94.22657   45796\n"
     ]
    }
   ],
   "source": [
    "#obtaining change in lowest completed ROI between data sets\n",
    "print(\"All comparisons are based off of percent completness\")\n",
    "print(\"-------------------------------------------------------------------------------------------------------------------------\")\n",
    "\n",
    "max_roi_old = df_oldest[df_oldest.p_postsyn == df_oldest.p_postsyn.min()]\n",
    "print(\"Lowest completed ROI in old data set:\")\n",
    "print(max_roi_old) #identify lowest completed region from old data set\n",
    "\n",
    "max_roi_lat = df_latest[df_latest.p_postsyn == df_latest.p_postsyn.min()]\n",
    "print(\"Lowest completed ROI in old latest data set:\")\n",
    "print(max_roi_lat) #identify lowested completed region from latest data set\n",
    "\n",
    "print(\"-------------------------------------------------------------------------------------------------------------------------\")\n",
    "#obtaining change in highest completed ROI between data sets\n",
    "\n",
    "min_roi_old = df_oldest[df_oldest.p_postsyn == df_oldest.p_postsyn.max()]\n",
    "print(\"Highest completed ROI in old data set:\")\n",
    "print(min_roi_old) #identify lowest completed region from old data set\n",
    "\n",
    "min_roi_lat = df_latest[df_latest.p_postsyn == df_latest.p_postsyn.max()]\n",
    "print(\"Highest completed ROI in old latest data set:\")\n",
    "print(min_roi_lat) #identify lowested completed region from latest data set"
   ]
  },
  {
   "cell_type": "code",
   "execution_count": 10,
   "metadata": {},
   "outputs": [
    {
     "data": {
      "text/html": [
       "<div>\n",
       "<style scoped>\n",
       "    .dataframe tbody tr th:only-of-type {\n",
       "        vertical-align: middle;\n",
       "    }\n",
       "\n",
       "    .dataframe tbody tr th {\n",
       "        vertical-align: top;\n",
       "    }\n",
       "\n",
       "    .dataframe thead th {\n",
       "        text-align: right;\n",
       "    }\n",
       "</style>\n",
       "<table border=\"1\" class=\"dataframe\">\n",
       "  <thead>\n",
       "    <tr style=\"text-align: right;\">\n",
       "      <th></th>\n",
       "      <th>ROI Min</th>\n",
       "      <th>Percent Completeness Min</th>\n",
       "      <th>ROI Max</th>\n",
       "      <th>Percent Completeness Max</th>\n",
       "    </tr>\n",
       "    <tr>\n",
       "      <th>Dataset Version</th>\n",
       "      <th></th>\n",
       "      <th></th>\n",
       "      <th></th>\n",
       "      <th></th>\n",
       "    </tr>\n",
       "  </thead>\n",
       "  <tbody>\n",
       "    <tr>\n",
       "      <th>V1.1- Latest</th>\n",
       "      <td>FLA(R)</td>\n",
       "      <td>18.794567%</td>\n",
       "      <td>EBr3am</td>\n",
       "      <td>93.917381%</td>\n",
       "    </tr>\n",
       "    <tr>\n",
       "      <th>V1.0.1 - Oldest</th>\n",
       "      <td>EPA(L)</td>\n",
       "      <td>20.558988%</td>\n",
       "      <td>EBr3am</td>\n",
       "      <td>94.22657%</td>\n",
       "    </tr>\n",
       "  </tbody>\n",
       "</table>\n",
       "</div>"
      ],
      "text/plain": [
       "                ROI Min Percent Completeness Min ROI Max  \\\n",
       "Dataset Version                                            \n",
       "V1.1- Latest     FLA(R)               18.794567%  EBr3am   \n",
       "V1.0.1 - Oldest  EPA(L)               20.558988%  EBr3am   \n",
       "\n",
       "                Percent Completeness Max  \n",
       "Dataset Version                           \n",
       "V1.1- Latest                  93.917381%  \n",
       "V1.0.1 - Oldest                94.22657%  "
      ]
     },
     "execution_count": 10,
     "metadata": {},
     "output_type": "execute_result"
    }
   ],
   "source": [
    "#create data frame to dispaly result in a more compact and visually pleasing manner\n",
    "df_sum = {'ROI Min': ['FLA(R)', 'EPA(L)'],\n",
    "         'Percent Completeness Min': ['18.794567%', '20.558988%'],\n",
    "         'ROI Max': ['EBr3am', 'EBr3am'],\n",
    "         'Percent Completeness Max': ['93.917381%', '94.22657%']}\n",
    "df_sum = pd.DataFrame(df_sum)\n",
    "df_sum = df_sum.rename(index = {0 : 'V1.1- Latest', 1 : 'V1.0.1 - Oldest'}) #renme indices\n",
    "df_sum.index.name = 'Dataset Version' #rename index column title\n",
    "df_sum"
   ]
  },
  {
   "cell_type": "code",
   "execution_count": null,
   "metadata": {},
   "outputs": [],
   "source": [
    " "
   ]
  },
  {
   "cell_type": "code",
   "execution_count": null,
   "metadata": {},
   "outputs": [],
   "source": []
  }
 ],
 "metadata": {
  "kernelspec": {
   "display_name": "Python 3",
   "language": "python",
   "name": "python3"
  },
  "language_info": {
   "codemirror_mode": {
    "name": "ipython",
    "version": 3
   },
   "file_extension": ".py",
   "mimetype": "text/x-python",
   "name": "python",
   "nbconvert_exporter": "python",
   "pygments_lexer": "ipython3",
   "version": "3.7.6"
  }
 },
 "nbformat": 4,
 "nbformat_minor": 4
}
